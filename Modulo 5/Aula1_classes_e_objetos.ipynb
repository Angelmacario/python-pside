{
 "cells": [
  {
   "cell_type": "markdown",
   "id": "24e1181d",
   "metadata": {},
   "source": [
    "### Classes e Objetos"
   ]
  },
  {
   "cell_type": "code",
   "execution_count": 1,
   "id": "4156fa1e",
   "metadata": {},
   "outputs": [
    {
     "name": "stdout",
     "output_type": "stream",
     "text": [
      "Auau\n",
      "True\n",
      "Zzzzz...\n",
      "False\n"
     ]
    }
   ],
   "source": [
    "# criando uma classe\n",
    "# padrao = começar com letra maiuscula\n",
    "#método é criado dentro da classe\n",
    "class Cachorro:\n",
    "    def __init__(self, nome, cor, acordado=True):\n",
    "        self.nome = nome\n",
    "        self.cor = cor\n",
    "        self.acordado = acordado\n",
    "\n",
    "    def latir(self):\n",
    "        print(\"Auau\")\n",
    "\n",
    "    def dormir(self):\n",
    "        self.acordado = False\n",
    "        print(\"Zzzzz...\")\n",
    "\n",
    "#Objetos da classe:\n",
    "\n",
    "cao_1 = Cachorro(\"Billy\", \"cinza\", False)\n",
    "cao_2 = Cachorro(\"Aladim\", \"branco e preto\")\n",
    "\n",
    "cao_1.latir()\n",
    "\n",
    "print(cao_2.acordado)\n",
    "cao_2.dormir()\n",
    "print(cao_2.acordado)"
   ]
  },
  {
   "cell_type": "code",
   "execution_count": null,
   "id": "1b711656",
   "metadata": {},
   "outputs": [
    {
     "name": "stdout",
     "output_type": "stream",
     "text": [
      "Bibibi...\n",
      "<__main__.Bicicleta object at 0x00000281C6FA7C80>\n",
      "Brecar...\n",
      "Bibibi...\n"
     ]
    }
   ],
   "source": [
    "class Bicicleta:\n",
    "    def __init__(self, cor, modelo, ano, valor, movimento=True):\n",
    "        self.cor = cor\n",
    "        self.ano = ano\n",
    "        self.modelo = modelo\n",
    "        self.valor = valor\n",
    "        self.movimento = movimento\n",
    "\n",
    "    def buzinar(self):\n",
    "        print(\"Bibibi...\")\n",
    "        \n",
    "    def parar(self):\n",
    "        self.movimento = False\n",
    "        print(\"Brecar...\")\n",
    "\n",
    "bicicleta_1 = Bicicleta(\"Vermelha\", \"XR\", \"2025\", \"R$1500,00\", False)\n",
    "bicicleta_2 = Bicicleta(\"Azul\", \"Caloi\", \"2024\", \"R$2000,00\")\n",
    "\n",
    "bicicleta_1.buzinar()\n",
    "print(bicicleta_1)\n",
    "bicicleta_1.andar()\n",
    "\n",
    "bicicleta_2.buzinar()\n",
    "# print(bicicleta_2.andar)\n",
    "# # bicicleta_2.andar()\n",
    "# # print(bicicleta_2.andar)"
   ]
  },
  {
   "cell_type": "code",
   "execution_count": null,
   "id": "e2716acb",
   "metadata": {},
   "outputs": [],
   "source": []
  }
 ],
 "metadata": {
  "kernelspec": {
   "display_name": "base",
   "language": "python",
   "name": "python3"
  },
  "language_info": {
   "codemirror_mode": {
    "name": "ipython",
    "version": 3
   },
   "file_extension": ".py",
   "mimetype": "text/x-python",
   "name": "python",
   "nbconvert_exporter": "python",
   "pygments_lexer": "ipython3",
   "version": "3.12.4"
  }
 },
 "nbformat": 4,
 "nbformat_minor": 5
}
