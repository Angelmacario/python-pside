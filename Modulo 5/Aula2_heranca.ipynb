{
 "cells": [
  {
   "cell_type": "code",
   "execution_count": null,
   "id": "ead2bb7f",
   "metadata": {},
   "outputs": [
    {
     "name": "stdout",
     "output_type": "stream",
     "text": [
      "O animal está comendo.\n",
      "O animal está dormindo\n",
      "O gato está miando.\n"
     ]
    }
   ],
   "source": [
    "#Praticando Herança\n",
    "class Animal:\n",
    "    def comer(self):\n",
    "        print(\"O animal está comendo.\")\n",
    "    \n",
    "    def dormir(self):\n",
    "        print(\"O animal está dormindo\")\n",
    "\n",
    "#Classe filha (subclasse)\n",
    "class Gato(Animal):\n",
    "    def miar(self):\n",
    "        print(\"O gato está miando.\")\n",
    "\n",
    "# Usando herança\n",
    "\n",
    "gato = Gato()\n",
    "gato.comer() #Herdado de Animal\n",
    "gato.dormir() #Herdado de Animal\n",
    "gato.miar()  #Herdado do Gato"
   ]
  },
  {
   "cell_type": "markdown",
   "id": "50ee52e0",
   "metadata": {},
   "source": [
    "### Herança Múltipla"
   ]
  },
  {
   "cell_type": "code",
   "execution_count": 7,
   "id": "12b94333",
   "metadata": {},
   "outputs": [
    {
     "name": "stdout",
     "output_type": "stream",
     "text": [
      "O personagem está andando!\n",
      "O Merlin lançou um feitiço!\n",
      "O personagem está andando!\n",
      "O Hércules ataca com a espada!\n",
      "O personagem está andando!\n",
      "O Aron ataca com a flecha!\n"
     ]
    }
   ],
   "source": [
    "class Personagem:\n",
    "    def __init__(self, nome):\n",
    "        self.nome = nome\n",
    "\n",
    "    def andar(self):\n",
    "        print(\"O personagem está andando!\")\n",
    "    \n",
    "    def falar(self):\n",
    "        print(\"O personagem está falando!\")\n",
    "\n",
    "class Mago(Personagem):\n",
    "    def lancar_feitico(self):\n",
    "        print(f\"O {self.nome} lançou um feitiço!\")\n",
    "\n",
    "class Guerreiro(Personagem):\n",
    "    def usar_espada(self):\n",
    "        print(f\"O {self.nome} ataca com a espada!\")\n",
    "\n",
    "class Arqueiro(Personagem):\n",
    "    def usar_flecha(self):\n",
    "        print(f\"O {self.nome} ataca com a flecha!\")\n",
    "\n",
    "\n",
    "mago = Mago(\"Merlin\")\n",
    "guerreiro = Guerreiro(\"Hércules\")\n",
    "arqueiro = Arqueiro(\"Aron\")\n",
    "\n",
    "mago.andar() #Herdado de Personagem\n",
    "mago.lancar_feitico() #Herdado do mago\n",
    "\n",
    "guerreiro.andar() #Herdado de Personagem\n",
    "guerreiro.usar_espada()  #Herdado do Guerreiro\n",
    "\n",
    "arqueiro.andar() #Herdado de Personagem\n",
    "arqueiro.usar_flecha()  #Herdado do Guerreiro"
   ]
  },
  {
   "cell_type": "code",
   "execution_count": null,
   "id": "d34cda0b",
   "metadata": {},
   "outputs": [],
   "source": []
  }
 ],
 "metadata": {
  "kernelspec": {
   "display_name": "base",
   "language": "python",
   "name": "python3"
  },
  "language_info": {
   "codemirror_mode": {
    "name": "ipython",
    "version": 3
   },
   "file_extension": ".py",
   "mimetype": "text/x-python",
   "name": "python",
   "nbconvert_exporter": "python",
   "pygments_lexer": "ipython3",
   "version": "3.12.4"
  }
 },
 "nbformat": 4,
 "nbformat_minor": 5
}
