{
 "cells": [
  {
   "cell_type": "code",
   "execution_count": 1,
   "id": "4fc945df",
   "metadata": {},
   "outputs": [],
   "source": [
    "import time"
   ]
  },
  {
   "cell_type": "code",
   "execution_count": 3,
   "id": "fd10eaab",
   "metadata": {},
   "outputs": [
    {
     "name": "stdout",
     "output_type": "stream",
     "text": [
      "📦 Cofrinho: [--------------------] R$0\n",
      "R$30.0 foi adicionado ao cofrinho!\n",
      "📦 Cofrinho: [######--------------] R$30.0\n",
      "R$70.0 foi adicionado ao cofrinho!\n",
      "📦 Cofrinho: [####################] R$100.0\n"
     ]
    }
   ],
   "source": [
    "#criação da classe\n",
    "class CofrinhoDigital:\n",
    "    def __init__(self):\n",
    "        self.__saldo = 0 #variável privada\n",
    "    \n",
    "    def adicionar(self, valor):\n",
    "        self.__saldo += valor\n",
    "        print(f\"R${valor} foi adicionado ao cofrinho!\")\n",
    "\n",
    "    #acessar o saldo como se fosse um atributo\n",
    "    @property\n",
    "    def saldo(self):\n",
    "        return self.__saldo\n",
    "    \n",
    "    #mostrar visualmente o quanto o cofrinho está cheio\n",
    "    def mostrar_barra(self):\n",
    "        total = 100\n",
    "        barras = int((self.__saldo/total) * 20)\n",
    "        print(\"📦 Cofrinho: [\" + \"#\" * barras + \"-\" * (20 - barras) + f\"] R${self.__saldo}\")\n",
    "\n",
    "# Interação\n",
    "cofre = CofrinhoDigital()\n",
    "\n",
    "while True:\n",
    "    cofre.mostrar_barra()\n",
    "    valor = input(\"Digite um valor para adicionar ou 'sair': \")\n",
    "    if valor.lower()  == \"sair\":\n",
    "        break\n",
    "    try:\n",
    "        valor = float(valor)\n",
    "        cofre.adicionar(valor)\n",
    "    except:\n",
    "        print(\"❌ Valor inválido!\")\n",
    "    time.sleep(1)"
   ]
  }
 ],
 "metadata": {
  "kernelspec": {
   "display_name": "base",
   "language": "python",
   "name": "python3"
  },
  "language_info": {
   "codemirror_mode": {
    "name": "ipython",
    "version": 3
   },
   "file_extension": ".py",
   "mimetype": "text/x-python",
   "name": "python",
   "nbconvert_exporter": "python",
   "pygments_lexer": "ipython3",
   "version": "3.12.4"
  }
 },
 "nbformat": 4,
 "nbformat_minor": 5
}
