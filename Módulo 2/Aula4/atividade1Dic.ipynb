{
 "cells": [
  {
   "cell_type": "code",
   "execution_count": null,
   "metadata": {},
   "outputs": [
    {
     "name": "stdout",
     "output_type": "stream",
     "text": [
      "\n",
      "----Resultado da votação: ----\n",
      "Aline: 2 votos\n",
      "Votação concluída\n"
     ]
    }
   ],
   "source": [
    "votacao = {}\n",
    "\n",
    "def votar(candidato):\n",
    "    votacao.setdefault(candidato, 0)\n",
    "    votacao[candidato] += 1\n",
    "\n",
    "while True:\n",
    "    candidato = input(\"Digite o nome do candidato para votar ou sair para encerrar: \").strip()\n",
    "    if candidato.lower() == \"sair\":\n",
    "        break\n",
    "    votar(candidato)\n",
    "\n",
    "print(\"\\n----Resultado da votação: ----\")\n",
    "\n",
    "for candidato, votos in votacao.items(): \n",
    "    print(f\"{candidato}: {votos} votos\")\n"
   ]
  },
  {
   "cell_type": "code",
   "execution_count": null,
   "metadata": {},
   "outputs": [],
   "source": []
  }
 ],
 "metadata": {
  "kernelspec": {
   "display_name": "base",
   "language": "python",
   "name": "python3"
  },
  "language_info": {
   "codemirror_mode": {
    "name": "ipython",
    "version": 3
   },
   "file_extension": ".py",
   "mimetype": "text/x-python",
   "name": "python",
   "nbconvert_exporter": "python",
   "pygments_lexer": "ipython3",
   "version": "3.12.4"
  }
 },
 "nbformat": 4,
 "nbformat_minor": 2
}
