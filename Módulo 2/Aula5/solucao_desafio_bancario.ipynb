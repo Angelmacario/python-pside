{
 "cells": [
  {
   "cell_type": "code",
   "execution_count": 1,
   "id": "b0016220",
   "metadata": {},
   "outputs": [],
   "source": [
    "from datetime import datetime"
   ]
  },
  {
   "cell_type": "code",
   "execution_count": null,
   "id": "629e3c73",
   "metadata": {},
   "outputs": [
    {
     "name": "stdout",
     "output_type": "stream",
     "text": [
      "\n",
      "1.Adicionar Transação\n",
      "2.Exibir Extrato\n",
      "3.Sair\n",
      "Opção inválida, tente novamente!\n",
      "\n",
      "1.Adicionar Transação\n",
      "2.Exibir Extrato\n",
      "3.Sair\n",
      "\n",
      "Depósito R$ 20.00 realizado com sucesso em 08/05/2025 17:03:S\n",
      "\n",
      "1.Adicionar Transação\n",
      "2.Exibir Extrato\n",
      "3.Sair\n",
      "Saindo...\n"
     ]
    }
   ],
   "source": [
    "class Conta:\n",
    "    def __init__(self):\n",
    "        self.saldo = 0.0\n",
    "        self.transacoes = []\n",
    "        self.limite_diario = 10\n",
    "    \n",
    "    def add_transacao(self):\n",
    "        if len(self.transacoes) >= self.limite_diario:\n",
    "            print(\"\\nVocê excedeu o número de transações permitidas para hoje!\")\n",
    "            return\n",
    "        \n",
    "        tipo = input(\"Digite D= para depósito ou S= para saque \").strip().upper()\n",
    "        if tipo not in(\"D\", \"S\"):\n",
    "            print(\"\\nOpção inválida!\")\n",
    "            return\n",
    "        try:\n",
    "            valor = float(input(\"Digite o valor: \"))\n",
    "            if valor <= 0:\n",
    "                print(\"Digite um valor positivo!\")\n",
    "                return\n",
    "        except ValueError:\n",
    "            print(\"\\nValor inválido!\")\n",
    "            return\n",
    "        \n",
    "        agora = datetime.now()\n",
    "        if tipo == \"S\":\n",
    "            if valor > self.saldo:\n",
    "                print(\"\\nSaldo insuficiente\")\n",
    "                return\n",
    "            self.saldo -= valor\n",
    "            self.transacoes.append((\"Saque\", valor, agora))\n",
    "            print(f\"\\nSaque R$ {valor:.2f} realizado com sucesso em {agora.strftime('%d/%m/%Y %H:%M:%S')}\")\n",
    "        else:\n",
    "            self.saldo += valor\n",
    "            self.transacoes.append((\"Deposito\", valor, agora))\n",
    "            print(f\"\\nDepósito R$ {valor:.2f} realizado com sucesso em {agora.strftime('%d/%m/%Y %H:%M:%S')}\")\n",
    "    \n",
    "    def exibir_extrato(self):\n",
    "        print(\"\\nEXTRATO DE TRANSAÇÕES:\")\n",
    "        if not self.transacoes:\n",
    "            print(\"Nenhuma transação realizada!\")\n",
    "        else:\n",
    "            for i, (tipo,valor, transacao) in enumerate(self.transacoes,1):\n",
    "                print(f\"{i}. {tipo} de R$ {valor:.2f} em {transacao.strftime('%d/%m/%Y %H:%M:%S')}\")\n",
    "        print(f\"\\nSaldo atual: R$ {self.saldo:.2f}\")\n",
    "\n",
    "conta = Conta()\n",
    "\n",
    "while True:\n",
    "    print(\"\\n1.Adicionar Transação\")\n",
    "    print(\"2.Exibir Extrato\")\n",
    "    print(\"3.Sair\")\n",
    "\n",
    "    opcao = input(\"Escolha uma opção:\")\n",
    "    if opcao == \"1\":\n",
    "        conta.add_transacao()\n",
    "    elif opcao == \"2\":\n",
    "        conta.exibir_extrato()\n",
    "        input(\"\\nPressione enter para continuar\")\n",
    "    elif opcao == \"3\":\n",
    "        print(\"Saindo...\")\n",
    "\n",
    "        break\n",
    "    else:\n",
    "        print(\"Opção inválida, tente novamente!\")"
   ]
  }
 ],
 "metadata": {
  "kernelspec": {
   "display_name": "base",
   "language": "python",
   "name": "python3"
  },
  "language_info": {
   "codemirror_mode": {
    "name": "ipython",
    "version": 3
   },
   "file_extension": ".py",
   "mimetype": "text/x-python",
   "name": "python",
   "nbconvert_exporter": "python",
   "pygments_lexer": "ipython3",
   "version": "3.12.4"
  }
 },
 "nbformat": 4,
 "nbformat_minor": 5
}
