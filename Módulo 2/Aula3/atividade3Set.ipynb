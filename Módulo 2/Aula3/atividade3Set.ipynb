{
 "cells": [
  {
   "cell_type": "code",
   "execution_count": 1,
   "metadata": {},
   "outputs": [
    {
     "name": "stdout",
     "output_type": "stream",
     "text": [
      "{10, 20} {50, 60} {10, 50, 20, 60}\n"
     ]
    }
   ],
   "source": [
    "c = {10, 20, 30 ,40}\n",
    "d = {30, 40, 50, 60}\n",
    "\n",
    "diferenca1 = c - d\n",
    "diferenca2 = d - c\n",
    "\n",
    "diferenca_simetrica = c ^ d \n",
    "\n",
    "print(diferenca1, diferenca2, diferenca_simetrica)"
   ]
  },
  {
   "cell_type": "code",
   "execution_count": null,
   "metadata": {},
   "outputs": [],
   "source": []
  }
 ],
 "metadata": {
  "kernelspec": {
   "display_name": "base",
   "language": "python",
   "name": "python3"
  },
  "language_info": {
   "codemirror_mode": {
    "name": "ipython",
    "version": 3
   },
   "file_extension": ".py",
   "mimetype": "text/x-python",
   "name": "python",
   "nbconvert_exporter": "python",
   "pygments_lexer": "ipython3",
   "version": "3.12.4"
  }
 },
 "nbformat": 4,
 "nbformat_minor": 2
}
