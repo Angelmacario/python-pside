{
 "cells": [
  {
   "cell_type": "code",
   "execution_count": null,
   "id": "3e5d41d2",
   "metadata": {},
   "outputs": [],
   "source": [
    "from datetime import datetime"
   ]
  },
  {
   "cell_type": "code",
   "execution_count": 1,
   "id": "c6ef0e8b",
   "metadata": {},
   "outputs": [
    {
     "ename": "NameError",
     "evalue": "name 'datetime' is not defined",
     "output_type": "error",
     "traceback": [
      "\u001b[1;31m---------------------------------------------------------------------------\u001b[0m",
      "\u001b[1;31mNameError\u001b[0m                                 Traceback (most recent call last)",
      "Cell \u001b[1;32mIn[1], line 14\u001b[0m\n\u001b[0;32m     12\u001b[0m saldo \u001b[38;5;241m=\u001b[39m \u001b[38;5;241m0\u001b[39m\n\u001b[0;32m     13\u001b[0m limite \u001b[38;5;241m=\u001b[39m \u001b[38;5;241m500\u001b[39m\n\u001b[1;32m---> 14\u001b[0m extrato \u001b[38;5;241m=\u001b[39m datetime\u001b[38;5;241m.\u001b[39mstrptime(data_evento_str, \u001b[38;5;124m\"\u001b[39m\u001b[38;5;132;01m%d\u001b[39;00m\u001b[38;5;124m/\u001b[39m\u001b[38;5;124m%\u001b[39m\u001b[38;5;124mm/\u001b[39m\u001b[38;5;124m%\u001b[39m\u001b[38;5;124mY\u001b[39m\u001b[38;5;124m\"\u001b[39m)\n\u001b[0;32m     15\u001b[0m numero_saques \u001b[38;5;241m=\u001b[39m \u001b[38;5;241m0\u001b[39m\n\u001b[0;32m     16\u001b[0m TRANSACAO \u001b[38;5;241m=\u001b[39m \u001b[38;5;241m10\u001b[39m\n",
      "\u001b[1;31mNameError\u001b[0m: name 'datetime' is not defined"
     ]
    }
   ],
   "source": [
    "# Menu Principal\n",
    "menu = \"\"\"\n",
    "\n",
    "[d] Depositar\n",
    "[s] Sacar\n",
    "[e] Extratos\n",
    "[q] Sair\n",
    "\n",
    "=> \"\"\"\n",
    "\n",
    "# Variáveis e Configurações Iniciais\n",
    "saldo = 0\n",
    "limite = 500\n",
    "extrato = datetime.strptime(data_evento_str, \"%d/%m/%Y\")\n",
    "numero_saques = 0\n",
    "TRANSACAO = 10\n",
    "\n",
    "# estrutura principal: \n",
    "while True:                      # Mantém o programa aberto para entrada do usuario\n",
    "    opcao = input(menu) #.lower # letras minusculas\n",
    "\n",
    "# Opção de Depósito:\n",
    "    if opcao == \"d\":\n",
    "        valor = float(input(\"Informe o valor do depósito: \"))\n",
    "\n",
    "        if valor > 0: \n",
    "            saldo += valor # soma o valor no saldo\n",
    "            extrato += f\"Depósito: R$ {valor:.2f}\\n\" # atualiza o extrato\n",
    "            TRANSACAO += f'Depósito somado a transações diárias'\n",
    "            print(f\"Depósito de R$ {valor:.2f} realizado com sucesso!\")\n",
    "        else: \n",
    "            print(\"Valor inválido. Por favor insira um valor positivo.\")\n",
    "\n",
    "# Opção de Saque:\n",
    "    elif opcao == \"s\":\n",
    "        valor = float(input(\"Informe o valor do saque: \"))\n",
    "        \n",
    "        if valor > saldo: \n",
    "            print(\"Saldo insuficiente!\")\n",
    "\n",
    "        elif valor > limite:\n",
    "            print(f\"O valor excede o limite de saque de R$ {limite:.2f}!\")\n",
    "\n",
    "        elif valor > 0:\n",
    "            saldo -= valor # subtrai o valor no saldo\n",
    "            extrato += f\"Saque: R${valor:.2f}\\n\" # atualiza o extrato\n",
    "            # numero_saques += 1 # adiciona um contrato ao saque diario\n",
    "            TRANSACAO += f'Saque somado a transações diárias'\n",
    "            print(f\"Saque de R$ {valor:.2f} realizado com sucesso!\")\n",
    "        else:\n",
    "            print(\"Valor inválido. Por favor, insira um valor positivo.\")\n",
    "\n",
    "# Opção de Extrato:\n",
    "    elif opcao == \"e\":\n",
    "        print(\"\\n ====================== EXTRATO ========================\")\n",
    "        print(\"Não foram realizadas movimentações.\" if not extrato else extrato)\n",
    "        print(f\"\\nSaldo atual: R$ {saldo:.2f}\")\n",
    "\n",
    "# Opção de sair:\n",
    "    if opcao == \"q\":\n",
    "        print(\"Obrigada por usar o sitema bancário. Até logo!\")\n",
    "        break"
   ]
  }
 ],
 "metadata": {
  "kernelspec": {
   "display_name": "base",
   "language": "python",
   "name": "python3"
  },
  "language_info": {
   "codemirror_mode": {
    "name": "ipython",
    "version": 3
   },
   "file_extension": ".py",
   "mimetype": "text/x-python",
   "name": "python",
   "nbconvert_exporter": "python",
   "pygments_lexer": "ipython3",
   "version": "3.12.4"
  }
 },
 "nbformat": 4,
 "nbformat_minor": 5
}
