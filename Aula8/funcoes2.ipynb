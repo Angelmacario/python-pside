{
 "cells": [
  {
   "cell_type": "code",
   "execution_count": 3,
   "metadata": {},
   "outputs": [
    {
     "name": "stdout",
     "output_type": "stream",
     "text": [
      "O resultado da operação 10 + 10 = 20\n"
     ]
    }
   ],
   "source": [
    "def somar(a, b):\n",
    "    return a + b\n",
    "\n",
    "def exibir_resultado(a, b, funcao):\n",
    "    resultado = funcao(a, b)\n",
    "    print(f\"O resultado da operação {a} + {b} = {resultado}\")\n",
    "\n",
    "exibir_resultado(10, 10, somar)"
   ]
  },
  {
   "cell_type": "code",
   "execution_count": null,
   "metadata": {},
   "outputs": [],
   "source": []
  }
 ],
 "metadata": {
  "kernelspec": {
   "display_name": "base",
   "language": "python",
   "name": "python3"
  },
  "language_info": {
   "codemirror_mode": {
    "name": "ipython",
    "version": 3
   },
   "file_extension": ".py",
   "mimetype": "text/x-python",
   "name": "python",
   "nbconvert_exporter": "python",
   "pygments_lexer": "ipython3",
   "version": "3.12.4"
  }
 },
 "nbformat": 4,
 "nbformat_minor": 2
}
